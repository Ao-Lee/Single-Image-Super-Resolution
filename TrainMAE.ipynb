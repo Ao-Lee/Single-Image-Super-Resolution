{
 "cells": [
  {
   "cell_type": "code",
   "execution_count": 1,
   "metadata": {},
   "outputs": [],
   "source": [
    "import tensorflow as tf\n",
    "import _init_paths\n",
    "import os\n",
    "import numpy as np\n",
    "from functools import partial\n",
    "import tensorflow.keras.models as KM\n",
    "import tensorflow.keras.backend as K\n",
    "from tensorflow.keras import callbacks as KC\n",
    "\n",
    "from utils import DisplayPlot, GetSchedular\n",
    "from mydata.loader_coco import COCO\n",
    "from mymodel.srgen import SrGen\n",
    "from mymodel.loss import GradientPenalty, FeatLoss, MAE, WLossPos, WLossNeg\n",
    "import cfg"
   ]
  },
  {
   "cell_type": "code",
   "execution_count": 2,
   "metadata": {},
   "outputs": [],
   "source": [
    "import argparse\n",
    "def GetTrainingOptions(devices = '2', # gpu devices to use\n",
    "                       batch = 12,\n",
    "                       ratio = 2, # resolution ratio between low and high resolution images\n",
    "                       lr = 2e-4, # learning rate\n",
    "                       epochs = 20, # epochs to train\n",
    "                       size_train = 800, # num of training data per epoch\n",
    "                       size_val = 100, # num of validation data per epoch\n",
    "                       dir_model = 'save_model', # root directory for saving results\n",
    "                       ):\n",
    "    \n",
    "    opt = argparse.Namespace()\n",
    "    opt.devices = devices\n",
    "    opt.batch = batch\n",
    "    opt.ratio = ratio\n",
    "    opt.lr = lr\n",
    "    opt.epochs = epochs\n",
    "    opt.size_train = size_train\n",
    "    opt.size_val = size_val\n",
    "    opt.dir_model = dir_model\n",
    "    return opt\n"
   ]
  },
  {
   "cell_type": "code",
   "execution_count": 3,
   "metadata": {},
   "outputs": [],
   "source": [
    "opt = GetTrainingOptions()"
   ]
  },
  {
   "cell_type": "code",
   "execution_count": 4,
   "metadata": {},
   "outputs": [],
   "source": [
    "os.environ[\"CUDA_VISIBLE_DEVICES\"] = opt.devices"
   ]
  },
  {
   "cell_type": "markdown",
   "metadata": {},
   "source": [
    "### dataset"
   ]
  },
  {
   "cell_type": "code",
   "execution_count": 5,
   "metadata": {},
   "outputs": [],
   "source": [
    "ds = COCO(root=cfg.PATH_COCO, ratio=opt.ratio, batch_size=opt.batch)\n",
    "ds_tr, ds_val = ds.GetDataset()"
   ]
  },
  {
   "cell_type": "markdown",
   "metadata": {},
   "source": [
    "### Callback"
   ]
  },
  {
   "cell_type": "code",
   "execution_count": 6,
   "metadata": {},
   "outputs": [],
   "source": [
    "\n",
    "\n",
    "display = DisplayPlot(root='Imgs', ds=ds)\n",
    "\n",
    "if not os.path.isdir(opt.dir_model): os.makedirs(opt.dir_model)\n",
    "ckpt = KC.ModelCheckpoint(monitor='val_loss', \n",
    "                          filepath=os.path.join(opt.dir_model, 'weights.h5'), \n",
    "                          save_weights_only=True, \n",
    "                          save_best_only=True, mode='min')\n",
    "\n",
    "Schedular = GetSchedular(lr_base=opt.lr, epoch_total=opt.epochs)\n",
    "reduce_lr = KC.LearningRateScheduler(Schedular)\n",
    "\n",
    "callbacks = [ckpt, display, reduce_lr]"
   ]
  },
  {
   "cell_type": "markdown",
   "metadata": {},
   "source": [
    "### Train"
   ]
  },
  {
   "cell_type": "code",
   "execution_count": 7,
   "metadata": {},
   "outputs": [],
   "source": [
    "model = SrGen(input_shape=ds.GetShapeLow())\n",
    "optimizer = tf.keras.optimizers.Adam(opt.lr)\n",
    "model.compile(optimizer=optimizer, loss='mae')"
   ]
  },
  {
   "cell_type": "code",
   "execution_count": 8,
   "metadata": {
    "scrolled": true
   },
   "outputs": [
    {
     "name": "stdout",
     "output_type": "stream",
     "text": [
      "Epoch 1/20\n",
      "800/800 [==============================] - 149s 186ms/step - loss: 0.0954 - val_loss: 0.0910 - lr: 2.0000e-04\n",
      "Epoch 2/20\n",
      "800/800 [==============================] - 144s 180ms/step - loss: 0.0708 - val_loss: 0.0630 - lr: 1.9098e-04\n",
      "Epoch 3/20\n",
      "800/800 [==============================] - 145s 181ms/step - loss: 0.0662 - val_loss: 0.1053 - lr: 1.8191e-04\n",
      "Epoch 4/20\n",
      "800/800 [==============================] - 144s 181ms/step - loss: 0.0654 - val_loss: 0.0759 - lr: 1.7279e-04\n",
      "Epoch 5/20\n",
      "800/800 [==============================] - 146s 182ms/step - loss: 0.0632 - val_loss: 0.0609 - lr: 1.6361e-04\n",
      "Epoch 6/20\n",
      "800/800 [==============================] - 146s 182ms/step - loss: 0.0602 - val_loss: 0.0594 - lr: 1.5438e-04\n",
      "Epoch 7/20\n",
      "800/800 [==============================] - 146s 182ms/step - loss: 0.0586 - val_loss: 0.0635 - lr: 1.4508e-04\n",
      "Epoch 8/20\n",
      "800/800 [==============================] - 145s 181ms/step - loss: 0.0571 - val_loss: 0.0550 - lr: 1.3572e-04\n",
      "Epoch 9/20\n",
      "800/800 [==============================] - 146s 183ms/step - loss: 0.0565 - val_loss: 0.0559 - lr: 1.2629e-04\n",
      "Epoch 10/20\n",
      "800/800 [==============================] - 145s 181ms/step - loss: 0.0554 - val_loss: 0.0563 - lr: 1.1678e-04\n",
      "Epoch 11/20\n",
      "800/800 [==============================] - 145s 181ms/step - loss: 0.0549 - val_loss: 0.0549 - lr: 1.0718e-04\n",
      "Epoch 12/20\n",
      "800/800 [==============================] - 144s 180ms/step - loss: 0.0547 - val_loss: 0.0582 - lr: 9.7481e-05\n",
      "Epoch 13/20\n",
      "800/800 [==============================] - 145s 181ms/step - loss: 0.0537 - val_loss: 0.0554 - lr: 8.7677e-05\n",
      "Epoch 14/20\n",
      "800/800 [==============================] - 145s 182ms/step - loss: 0.0529 - val_loss: 0.0529 - lr: 7.7748e-05\n",
      "Epoch 15/20\n",
      "800/800 [==============================] - 145s 181ms/step - loss: 0.0520 - val_loss: 0.0548 - lr: 6.7677e-05\n",
      "Epoch 16/20\n",
      "800/800 [==============================] - 145s 181ms/step - loss: 0.0528 - val_loss: 0.0530 - lr: 5.7435e-05\n",
      "Epoch 17/20\n",
      "800/800 [==============================] - 145s 181ms/step - loss: 0.0525 - val_loss: 0.0521 - lr: 4.6985e-05\n",
      "Epoch 18/20\n",
      "800/800 [==============================] - 145s 181ms/step - loss: 0.0516 - val_loss: 0.0535 - lr: 3.6267e-05\n",
      "Epoch 19/20\n",
      "800/800 [==============================] - 145s 181ms/step - loss: 0.0511 - val_loss: 0.0513 - lr: 2.5179e-05\n",
      "Epoch 20/20\n",
      "800/800 [==============================] - 146s 182ms/step - loss: 0.0508 - val_loss: 0.0524 - lr: 1.3493e-05\n"
     ]
    },
    {
     "data": {
      "text/plain": [
       "<tensorflow.python.keras.callbacks.History at 0x7f0f8c9d6250>"
      ]
     },
     "execution_count": 8,
     "metadata": {},
     "output_type": "execute_result"
    }
   ],
   "source": [
    "model.fit(ds_tr,\n",
    "          steps_per_epoch = opt.size_train,\n",
    "          epochs = opt.epochs, \n",
    "          verbose = 1,\n",
    "          validation_data = ds_val,\n",
    "          validation_steps = opt.size_val,\n",
    "          callbacks = callbacks)"
   ]
  },
  {
   "cell_type": "code",
   "execution_count": null,
   "metadata": {},
   "outputs": [],
   "source": []
  },
  {
   "cell_type": "code",
   "execution_count": null,
   "metadata": {},
   "outputs": [],
   "source": []
  }
 ],
 "metadata": {
  "kernelspec": {
   "display_name": "Python 3",
   "language": "python",
   "name": "python3"
  },
  "language_info": {
   "codemirror_mode": {
    "name": "ipython",
    "version": 3
   },
   "file_extension": ".py",
   "mimetype": "text/x-python",
   "name": "python",
   "nbconvert_exporter": "python",
   "pygments_lexer": "ipython3",
   "version": "3.7.7"
  }
 },
 "nbformat": 4,
 "nbformat_minor": 4
}
