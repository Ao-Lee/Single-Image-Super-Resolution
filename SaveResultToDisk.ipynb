{
 "cells": [
  {
   "cell_type": "code",
   "execution_count": 28,
   "metadata": {},
   "outputs": [],
   "source": [
    "%matplotlib inline\n",
    "import cfg\n",
    "import os\n",
    "import numpy as np\n",
    "from tqdm import tqdm\n",
    "import keras.backend as K\n",
    "from tqdm import tqdm\n",
    "from PIL import Image\n",
    "from mymodel.srgen import SrGen\n",
    "from mydata.utils import Preprocess, InvertedProcess, ShowImage"
   ]
  },
  {
   "cell_type": "code",
   "execution_count": 4,
   "metadata": {},
   "outputs": [],
   "source": [
    "dir_model = '/home/liao/DM/Models/sisr_wgan.hdf5'\n",
    "def GetModel(h, w, model_path=dir_model):\n",
    "    K.clear_session()\n",
    "    model = SrGen(input_shape=(h, w, 3))\n",
    "    model.load_weights(model_path)\n",
    "    return model"
   ]
  },
  {
   "cell_type": "code",
   "execution_count": 5,
   "metadata": {},
   "outputs": [
    {
     "name": "stdout",
     "output_type": "stream",
     "text": [
      "WARNING:tensorflow:From /home/liao/anaconda3/lib/python3.7/site-packages/tensorflow/python/ops/resource_variable_ops.py:435: colocate_with (from tensorflow.python.framework.ops) is deprecated and will be removed in a future version.\n",
      "Instructions for updating:\n",
      "Colocations handled automatically by placer.\n"
     ]
    }
   ],
   "source": [
    "model = GetModel(None, None, dir_model)"
   ]
  },
  {
   "cell_type": "code",
   "execution_count": 32,
   "metadata": {},
   "outputs": [],
   "source": [
    "from mydata.loader_coco import COCO\n",
    "ds = COCO(root=cfg.PATH_COCO, ratio=2, debug=True)\n",
    "gen_tr = ds.GetGenerator_Tr()\n",
    "gen_val = ds.GetGenerator_Val()"
   ]
  },
  {
   "cell_type": "code",
   "execution_count": 26,
   "metadata": {},
   "outputs": [],
   "source": [
    "def ConvertAndSave(img, path):\n",
    "    img = InvertedProcess(img)[0]\n",
    "    img = img.astype(np.uint8)\n",
    "    # ShowImage(img)\n",
    "    img = Image.fromarray(img)\n",
    "    img.save(path)\n",
    "    return img"
   ]
  },
  {
   "cell_type": "code",
   "execution_count": 31,
   "metadata": {},
   "outputs": [
    {
     "name": "stderr",
     "output_type": "stream",
     "text": [
      "100%|██████████| 100/100 [00:21<00:00,  4.65it/s]\n"
     ]
    }
   ],
   "source": [
    "path = 'ResultsOnTr'\n",
    "path_hr = os.path.join(path, 'HR')\n",
    "path_lr = os.path.join(path, 'LR')\n",
    "path_pred = os.path.join(path, 'PRED')\n",
    "if not os.path.exists(path_lr): os.makedirs(path_lr)\n",
    "if not os.path.exists(path_hr): os.makedirs(path_hr)\n",
    "if not os.path.exists(path_pred): os.makedirs(path_pred)\n",
    "\n",
    "for idx in tqdm(range(100)):\n",
    "    filename = 'image{:04d}.jpg'.format(idx)\n",
    "    lr, hr = next(gen_tr)\n",
    "    pred = model.predict_on_batch(lr)\n",
    "    ConvertAndSave(lr, os.path.join(path_lr, filename))\n",
    "    ConvertAndSave(hr, os.path.join(path_hr, filename))\n",
    "    ConvertAndSave(pred, os.path.join(path_pred, filename))\n",
    "    "
   ]
  },
  {
   "cell_type": "code",
   "execution_count": 33,
   "metadata": {},
   "outputs": [
    {
     "name": "stderr",
     "output_type": "stream",
     "text": [
      "100%|██████████| 100/100 [00:17<00:00,  5.83it/s]\n"
     ]
    }
   ],
   "source": [
    "path = 'ResultsOnVal'\n",
    "path_hr = os.path.join(path, 'HR')\n",
    "path_lr = os.path.join(path, 'LR')\n",
    "path_pred = os.path.join(path, 'PRED')\n",
    "if not os.path.exists(path_lr): os.makedirs(path_lr)\n",
    "if not os.path.exists(path_hr): os.makedirs(path_hr)\n",
    "if not os.path.exists(path_pred): os.makedirs(path_pred)\n",
    "\n",
    "for idx in tqdm(range(100)):\n",
    "    filename = 'image{:04d}.jpg'.format(idx)\n",
    "    lr, hr = next(gen_val)\n",
    "    pred = model.predict_on_batch(lr)\n",
    "    ConvertAndSave(lr, os.path.join(path_lr, filename))\n",
    "    ConvertAndSave(hr, os.path.join(path_hr, filename))\n",
    "    ConvertAndSave(pred, os.path.join(path_pred, filename))"
   ]
  },
  {
   "cell_type": "code",
   "execution_count": 29,
   "metadata": {},
   "outputs": [],
   "source": []
  },
  {
   "cell_type": "code",
   "execution_count": null,
   "metadata": {},
   "outputs": [],
   "source": []
  }
 ],
 "metadata": {
  "kernelspec": {
   "display_name": "Python 3",
   "language": "python",
   "name": "python3"
  },
  "language_info": {
   "codemirror_mode": {
    "name": "ipython",
    "version": 3
   },
   "file_extension": ".py",
   "mimetype": "text/x-python",
   "name": "python",
   "nbconvert_exporter": "python",
   "pygments_lexer": "ipython3",
   "version": "3.7.5"
  }
 },
 "nbformat": 4,
 "nbformat_minor": 2
}
