{
 "cells": [
  {
   "cell_type": "code",
   "execution_count": 1,
   "metadata": {},
   "outputs": [],
   "source": [
    "import tensorflow as tf\n",
    "import _init_paths\n",
    "import os\n",
    "import numpy as np\n",
    "from functools import partial\n",
    "import tensorflow.keras.models as KM\n",
    "import tensorflow.keras.backend as K\n",
    "from utils import DisplayPlot\n",
    "from mydata.loader_coco import COCO\n",
    "from mymodel.wgangp import WGanGP\n",
    "from mymodel.srgen import SrGen\n",
    "from mymodel.utils import Vgg, Resnet, Discriminator\n",
    "import cfg"
   ]
  },
  {
   "cell_type": "code",
   "execution_count": 2,
   "metadata": {},
   "outputs": [],
   "source": [
    "import argparse\n",
    "def GetTrainingOptions(weightAdv = 0.1, # weight for adversal loss\n",
    "                       weightGP = 10, # weight for gradient Penalty\n",
    "                       weightFeat = 10, # weight for feature reconstruction loss\n",
    "                       weightPixel = 0.1, # weight for pixel-wise mean absolute error \n",
    "                       devices = '2', # gpu devices to use\n",
    "                       batch = 12,\n",
    "                       ratio = 2, # resolution ratio between low and high resolution images\n",
    "                       lr_g = 5e-5, # learning rate for generator\n",
    "                       lr_d = 1e-4, # learning rate for discriminator\n",
    "                       epochs = 100, # epochs to train\n",
    "                       size_train = 1000, # num of training data per epoch\n",
    "                       size_val = 1, # num of validation data per epoch\n",
    "                       dir_results = '.', # root directory for saving results\n",
    "                       ):\n",
    "    \n",
    "    opt = argparse.Namespace()\n",
    "    opt.weightAdv = weightAdv\n",
    "    opt.weightGP = weightGP\n",
    "    opt.weightFeat = weightFeat\n",
    "    opt.weightPixel = weightPixel\n",
    "    opt.devices = devices\n",
    "    opt.batch = batch\n",
    "    opt.ratio = ratio\n",
    "    opt.lr_g = lr_g\n",
    "    opt.lr_d = lr_d\n",
    "    opt.epochs = epochs\n",
    "    opt.size_train = size_train\n",
    "    opt.size_val = size_val\n",
    "    opt.dir_results = dir_results\n",
    "    return opt\n"
   ]
  },
  {
   "cell_type": "code",
   "execution_count": 3,
   "metadata": {},
   "outputs": [],
   "source": [
    "opt = GetTrainingOptions(epochs=200, weightFeat=20)"
   ]
  },
  {
   "cell_type": "code",
   "execution_count": 4,
   "metadata": {},
   "outputs": [],
   "source": [
    "os.environ[\"CUDA_VISIBLE_DEVICES\"] = opt.devices"
   ]
  },
  {
   "cell_type": "markdown",
   "metadata": {},
   "source": [
    "### dataset"
   ]
  },
  {
   "cell_type": "code",
   "execution_count": 5,
   "metadata": {},
   "outputs": [],
   "source": [
    "ds = COCO(root=cfg.PATH_COCO, ratio=opt.ratio, batch_size=opt.batch)\n",
    "ds_tr, ds_val = ds.GetDataset()"
   ]
  },
  {
   "cell_type": "markdown",
   "metadata": {},
   "source": [
    "### Model"
   ]
  },
  {
   "cell_type": "code",
   "execution_count": 6,
   "metadata": {},
   "outputs": [],
   "source": [
    "generator = SrGen(input_shape=ds.GetShapeLow())\n",
    "generator.load_weights(os.path.join('save_model', 'weights.h5'))\n",
    "discriminator = Discriminator(input_shape=ds.GetShapeHigh())\n",
    "feat = Resnet(input_shape=ds.GetShapeHigh())"
   ]
  },
  {
   "cell_type": "markdown",
   "metadata": {},
   "source": [
    "### Main"
   ]
  },
  {
   "cell_type": "code",
   "execution_count": 8,
   "metadata": {},
   "outputs": [],
   "source": [
    "optimizer_g = tf.keras.optimizers.RMSprop(opt.lr_g)\n",
    "optimizer_d = tf.keras.optimizers.RMSprop(opt.lr_d)\n",
    "model = WGanGP(discriminator, generator, feat, opt)\n",
    "model.compile(optimizer_g=optimizer_g, optimizer_d=optimizer_d)\n",
    "display = DisplayPlot(root='Imgs', ds=ds)"
   ]
  },
  {
   "cell_type": "code",
   "execution_count": null,
   "metadata": {},
   "outputs": [
    {
     "name": "stdout",
     "output_type": "stream",
     "text": [
      "Epoch 1/200\n",
      "1000/1000 [==============================] - 183s 183ms/step - loss_d: 2.2669 - loss_g: -0.4228 - gp: 2.6071 - loss_adv: -0.6207 - loss_feat0: 0.0357 - loss_feat1: 0.0667 - loss_feat2: 0.0786 - loss_mae: 0.0169 - val_loss_d: -0.2704 - val_loss_g: 0.9819 - val_gp: 2.3499 - val_loss_adv: 0.8072 - val_loss_feat0: 0.0285 - val_loss_feat1: 0.0612 - val_loss_feat2: 0.0733 - val_loss_mae: 0.0118\n",
      "Epoch 2/200\n",
      "1000/1000 [==============================] - 179s 179ms/step - loss_d: 2.2446 - loss_g: -0.1604 - gp: 1.8684 - loss_adv: -0.3838 - loss_feat0: 0.0388 - loss_feat1: 0.0718 - loss_feat2: 0.0886 - loss_mae: 0.0242 - val_loss_d: 3.2784 - val_loss_g: -0.9657 - val_gp: 2.2534 - val_loss_adv: -1.1577 - val_loss_feat0: 0.0334 - val_loss_feat1: 0.0631 - val_loss_feat2: 0.0742 - val_loss_mae: 0.0212\n",
      "Epoch 3/200\n",
      "1000/1000 [==============================] - 179s 179ms/step - loss_d: 1.8448 - loss_g: -1.3570 - gp: 1.5612 - loss_adv: -1.5845 - loss_feat0: 0.0389 - loss_feat1: 0.0726 - loss_feat2: 0.0905 - loss_mae: 0.0256 - val_loss_d: -1.8884 - val_loss_g: -0.8967 - val_gp: 2.2373 - val_loss_adv: -1.1265 - val_loss_feat0: 0.0448 - val_loss_feat1: 0.0696 - val_loss_feat2: 0.0858 - val_loss_mae: 0.0295\n",
      "Epoch 4/200\n",
      "1000/1000 [==============================] - 179s 179ms/step - loss_d: 1.5520 - loss_g: -2.9179 - gp: 1.1597 - loss_adv: -3.1303 - loss_feat0: 0.0369 - loss_feat1: 0.0702 - loss_feat2: 0.0855 - loss_mae: 0.0199 - val_loss_d: -1.9199 - val_loss_g: -3.2463 - val_gp: 0.6946 - val_loss_adv: -3.4318 - val_loss_feat0: 0.0314 - val_loss_feat1: 0.0648 - val_loss_feat2: 0.0759 - val_loss_mae: 0.0134\n",
      "Epoch 5/200\n",
      "1000/1000 [==============================] - 180s 180ms/step - loss_d: 1.0585 - loss_g: -3.3152 - gp: 0.7391 - loss_adv: -3.5097 - loss_feat0: 0.0335 - loss_feat1: 0.0665 - loss_feat2: 0.0785 - loss_mae: 0.0160 - val_loss_d: 0.7533 - val_loss_g: -3.5232 - val_gp: 0.2595 - val_loss_adv: -3.6762 - val_loss_feat0: 0.0251 - val_loss_feat1: 0.0554 - val_loss_feat2: 0.0619 - val_loss_mae: 0.0106\n",
      "Epoch 6/200\n",
      "1000/1000 [==============================] - 179s 179ms/step - loss_d: 0.7547 - loss_g: -3.8839 - gp: 0.5622 - loss_adv: -4.0687 - loss_feat0: 0.0309 - loss_feat1: 0.0641 - loss_feat2: 0.0746 - loss_mae: 0.0152 - val_loss_d: -2.7546 - val_loss_g: -3.8892 - val_gp: 0.3002 - val_loss_adv: -4.0489 - val_loss_feat0: 0.0232 - val_loss_feat1: 0.0565 - val_loss_feat2: 0.0688 - val_loss_mae: 0.0113\n",
      "Epoch 7/200\n",
      "1000/1000 [==============================] - 179s 179ms/step - loss_d: 0.7835 - loss_g: -3.7623 - gp: 0.7351 - loss_adv: -3.9698 - loss_feat0: 0.0353 - loss_feat1: 0.0676 - loss_feat2: 0.0825 - loss_mae: 0.0221 - val_loss_d: -0.9252 - val_loss_g: -3.8936 - val_gp: 0.3516 - val_loss_adv: -4.0504 - val_loss_feat0: 0.0240 - val_loss_feat1: 0.0583 - val_loss_feat2: 0.0646 - val_loss_mae: 0.0099\n",
      "Epoch 8/200\n",
      "1000/1000 [==============================] - 179s 179ms/step - loss_d: 0.8093 - loss_g: -4.1561 - gp: 0.5423 - loss_adv: -4.3434 - loss_feat0: 0.0315 - loss_feat1: 0.0641 - loss_feat2: 0.0755 - loss_mae: 0.0162 - val_loss_d: -4.4607 - val_loss_g: -3.1542 - val_gp: 0.7121 - val_loss_adv: -3.4443 - val_loss_feat0: 0.0614 - val_loss_feat1: 0.0840 - val_loss_feat2: 0.1054 - val_loss_mae: 0.0392\n",
      "Epoch 9/200\n",
      "1000/1000 [==============================] - 179s 179ms/step - loss_d: 0.6985 - loss_g: -5.1008 - gp: 0.5426 - loss_adv: -5.2915 - loss_feat0: 0.0322 - loss_feat1: 0.0645 - loss_feat2: 0.0767 - loss_mae: 0.0172 - val_loss_d: 0.7529 - val_loss_g: -5.0291 - val_gp: 0.3987 - val_loss_adv: -5.2046 - val_loss_feat0: 0.0309 - val_loss_feat1: 0.0596 - val_loss_feat2: 0.0732 - val_loss_mae: 0.0117\n",
      "Epoch 10/200\n",
      "1000/1000 [==============================] - 179s 179ms/step - loss_d: 0.6081 - loss_g: -4.8781 - gp: 0.4836 - loss_adv: -5.0706 - loss_feat0: 0.0328 - loss_feat1: 0.0646 - loss_feat2: 0.0769 - loss_mae: 0.0181 - val_loss_d: 0.1459 - val_loss_g: -5.3318 - val_gp: 0.3369 - val_loss_adv: -5.5111 - val_loss_feat0: 0.0307 - val_loss_feat1: 0.0635 - val_loss_feat2: 0.0725 - val_loss_mae: 0.0125\n",
      "Epoch 11/200\n",
      "1000/1000 [==============================] - 180s 180ms/step - loss_d: 0.5288 - loss_g: -5.3230 - gp: 0.3761 - loss_adv: -5.4996 - loss_feat0: 0.0292 - loss_feat1: 0.0618 - loss_feat2: 0.0712 - loss_mae: 0.0144 - val_loss_d: 0.3304 - val_loss_g: -5.4801 - val_gp: 0.2251 - val_loss_adv: -5.6620 - val_loss_feat0: 0.0314 - val_loss_feat1: 0.0660 - val_loss_feat2: 0.0717 - val_loss_mae: 0.0129\n",
      "Epoch 12/200\n",
      "1000/1000 [==============================] - 179s 179ms/step - loss_d: 0.6620 - loss_g: -5.7763 - gp: 0.4465 - loss_adv: -5.9580 - loss_feat0: 0.0297 - loss_feat1: 0.0628 - loss_feat2: 0.0730 - loss_mae: 0.0162 - val_loss_d: 0.3302 - val_loss_g: -6.9652 - val_gp: 0.1257 - val_loss_adv: -7.1027 - val_loss_feat0: 0.0220 - val_loss_feat1: 0.0489 - val_loss_feat2: 0.0582 - val_loss_mae: 0.0083\n",
      "Epoch 13/200\n",
      "1000/1000 [==============================] - 179s 179ms/step - loss_d: 0.8563 - loss_g: -6.1749 - gp: 0.3545 - loss_adv: -6.3587 - loss_feat0: 0.0299 - loss_feat1: 0.0640 - loss_feat2: 0.0759 - loss_mae: 0.0140 - val_loss_d: 1.1632 - val_loss_g: -5.7688 - val_gp: 0.5119 - val_loss_adv: -5.9322 - val_loss_feat0: 0.0239 - val_loss_feat1: 0.0553 - val_loss_feat2: 0.0730 - val_loss_mae: 0.0113\n",
      "Epoch 14/200\n",
      "1000/1000 [==============================] - 179s 179ms/step - loss_d: 0.8511 - loss_g: -6.2348 - gp: 0.3522 - loss_adv: -6.4021 - loss_feat0: 0.0253 - loss_feat1: 0.0615 - loss_feat2: 0.0693 - loss_mae: 0.0112 - val_loss_d: 0.9511 - val_loss_g: -5.8918 - val_gp: 0.2925 - val_loss_adv: -6.0418 - val_loss_feat0: 0.0238 - val_loss_feat1: 0.0575 - val_loss_feat2: 0.0585 - val_loss_mae: 0.0103\n",
      "Epoch 15/200\n",
      "1000/1000 [==============================] - 179s 179ms/step - loss_d: 1.2853 - loss_g: -5.7546 - gp: 0.5764 - loss_adv: -5.9113 - loss_feat0: 0.0226 - loss_feat1: 0.0592 - loss_feat2: 0.0646 - loss_mae: 0.0101 - val_loss_d: 0.4007 - val_loss_g: -5.4865 - val_gp: 0.1921 - val_loss_adv: -5.6240 - val_loss_feat0: 0.0180 - val_loss_feat1: 0.0545 - val_loss_feat2: 0.0568 - val_loss_mae: 0.0083\n",
      "Epoch 16/200\n",
      "1000/1000 [==============================] - 179s 179ms/step - loss_d: 1.4759 - loss_g: -6.1493 - gp: 0.8537 - loss_adv: -6.3030 - loss_feat0: 0.0216 - loss_feat1: 0.0588 - loss_feat2: 0.0635 - loss_mae: 0.0097 - val_loss_d: 2.0160 - val_loss_g: -6.4748 - val_gp: 1.1677 - val_loss_adv: -6.6118 - val_loss_feat0: 0.0173 - val_loss_feat1: 0.0537 - val_loss_feat2: 0.0577 - val_loss_mae: 0.0082\n",
      "Epoch 17/200\n",
      "1000/1000 [==============================] - 179s 179ms/step - loss_d: 1.4858 - loss_g: -5.8346 - gp: 0.7381 - loss_adv: -5.9874 - loss_feat0: 0.0213 - loss_feat1: 0.0585 - loss_feat2: 0.0630 - loss_mae: 0.0100 - val_loss_d: 1.4967 - val_loss_g: -5.4308 - val_gp: 0.2367 - val_loss_adv: -5.5786 - val_loss_feat0: 0.0232 - val_loss_feat1: 0.0551 - val_loss_feat2: 0.0598 - val_loss_mae: 0.0097\n",
      "Epoch 18/200\n",
      "1000/1000 [==============================] - 180s 180ms/step - loss_d: 1.0931 - loss_g: -5.6297 - gp: 0.5417 - loss_adv: -5.7813 - loss_feat0: 0.0210 - loss_feat1: 0.0585 - loss_feat2: 0.0626 - loss_mae: 0.0096 - val_loss_d: 1.2949 - val_loss_g: -5.7598 - val_gp: 0.2093 - val_loss_adv: -5.9739 - val_loss_feat0: 0.0365 - val_loss_feat1: 0.0690 - val_loss_feat2: 0.0826 - val_loss_mae: 0.0260\n",
      "Epoch 19/200\n",
      "1000/1000 [==============================] - 180s 180ms/step - loss_d: 0.8984 - loss_g: -5.5940 - gp: 0.4653 - loss_adv: -5.7432 - loss_feat0: 0.0206 - loss_feat1: 0.0577 - loss_feat2: 0.0615 - loss_mae: 0.0094 - val_loss_d: 0.6330 - val_loss_g: -5.6867 - val_gp: 0.2619 - val_loss_adv: -5.8190 - val_loss_feat0: 0.0197 - val_loss_feat1: 0.0520 - val_loss_feat2: 0.0524 - val_loss_mae: 0.0082\n",
      "Epoch 20/200\n",
      "1000/1000 [==============================] - 179s 179ms/step - loss_d: 0.7634 - loss_g: -5.7333 - gp: 0.4179 - loss_adv: -5.8823 - loss_feat0: 0.0204 - loss_feat1: 0.0577 - loss_feat2: 0.0614 - loss_mae: 0.0095 - val_loss_d: 0.0493 - val_loss_g: -5.4530 - val_gp: 0.2103 - val_loss_adv: -5.6178 - val_loss_feat0: 0.0262 - val_loss_feat1: 0.0609 - val_loss_feat2: 0.0674 - val_loss_mae: 0.0103\n",
      "Epoch 21/200\n"
     ]
    },
    {
     "name": "stdout",
     "output_type": "stream",
     "text": [
      "1000/1000 [==============================] - 179s 179ms/step - loss_d: 0.7140 - loss_g: -5.7938 - gp: 0.4031 - loss_adv: -5.9426 - loss_feat0: 0.0200 - loss_feat1: 0.0577 - loss_feat2: 0.0614 - loss_mae: 0.0097 - val_loss_d: 0.3868 - val_loss_g: -6.2924 - val_gp: 0.5944 - val_loss_adv: -6.4347 - val_loss_feat0: 0.0190 - val_loss_feat1: 0.0546 - val_loss_feat2: 0.0585 - val_loss_mae: 0.0102\n",
      "Epoch 22/200\n",
      "1000/1000 [==============================] - 180s 180ms/step - loss_d: 0.7107 - loss_g: -5.7768 - gp: 0.4133 - loss_adv: -5.9232 - loss_feat0: 0.0196 - loss_feat1: 0.0571 - loss_feat2: 0.0602 - loss_mae: 0.0095 - val_loss_d: 0.0883 - val_loss_g: -6.1085 - val_gp: 0.1354 - val_loss_adv: -6.2701 - val_loss_feat0: 0.0240 - val_loss_feat1: 0.0605 - val_loss_feat2: 0.0650 - val_loss_mae: 0.0121\n",
      "Epoch 23/200\n",
      "1000/1000 [==============================] - 180s 180ms/step - loss_d: 0.7322 - loss_g: -5.9121 - gp: 0.4269 - loss_adv: -6.0568 - loss_feat0: 0.0190 - loss_feat1: 0.0567 - loss_feat2: 0.0598 - loss_mae: 0.0091 - val_loss_d: 0.3204 - val_loss_g: -5.8734 - val_gp: 0.0958 - val_loss_adv: -6.0257 - val_loss_feat0: 0.0176 - val_loss_feat1: 0.0606 - val_loss_feat2: 0.0655 - val_loss_mae: 0.0086\n",
      "Epoch 24/200\n",
      "1000/1000 [==============================] - 180s 180ms/step - loss_d: 0.6613 - loss_g: -5.7907 - gp: 0.3862 - loss_adv: -5.9345 - loss_feat0: 0.0189 - loss_feat1: 0.0564 - loss_feat2: 0.0593 - loss_mae: 0.0092 - val_loss_d: 1.0578 - val_loss_g: -5.7524 - val_gp: 0.5315 - val_loss_adv: -5.8881 - val_loss_feat0: 0.0174 - val_loss_feat1: 0.0537 - val_loss_feat2: 0.0559 - val_loss_mae: 0.0086\n",
      "Epoch 25/200\n",
      "1000/1000 [==============================] - 180s 180ms/step - loss_d: 0.6463 - loss_g: -6.0267 - gp: 0.3552 - loss_adv: -6.1699 - loss_feat0: 0.0189 - loss_feat1: 0.0564 - loss_feat2: 0.0589 - loss_mae: 0.0090 - val_loss_d: 0.1075 - val_loss_g: -5.8204 - val_gp: 0.1747 - val_loss_adv: -5.9440 - val_loss_feat0: 0.0159 - val_loss_feat1: 0.0489 - val_loss_feat2: 0.0514 - val_loss_mae: 0.0074\n",
      "Epoch 26/200\n",
      "1000/1000 [==============================] - 180s 180ms/step - loss_d: 0.5963 - loss_g: -5.9296 - gp: 0.3262 - loss_adv: -6.0712 - loss_feat0: 0.0186 - loss_feat1: 0.0558 - loss_feat2: 0.0584 - loss_mae: 0.0089 - val_loss_d: 0.8493 - val_loss_g: -5.4195 - val_gp: 0.2145 - val_loss_adv: -5.5588 - val_loss_feat0: 0.0191 - val_loss_feat1: 0.0544 - val_loss_feat2: 0.0563 - val_loss_mae: 0.0095\n",
      "Epoch 27/200\n",
      "1000/1000 [==============================] - 180s 180ms/step - loss_d: 0.5569 - loss_g: -5.9165 - gp: 0.3001 - loss_adv: -6.0574 - loss_feat0: 0.0183 - loss_feat1: 0.0558 - loss_feat2: 0.0580 - loss_mae: 0.0088 - val_loss_d: 0.5058 - val_loss_g: -5.8595 - val_gp: 0.5686 - val_loss_adv: -5.9930 - val_loss_feat0: 0.0171 - val_loss_feat1: 0.0526 - val_loss_feat2: 0.0555 - val_loss_mae: 0.0083\n",
      "Epoch 28/200\n",
      "1000/1000 [==============================] - 179s 179ms/step - loss_d: 0.5915 - loss_g: -6.0811 - gp: 0.2937 - loss_adv: -6.2205 - loss_feat0: 0.0181 - loss_feat1: 0.0553 - loss_feat2: 0.0572 - loss_mae: 0.0088 - val_loss_d: 0.3506 - val_loss_g: -5.8851 - val_gp: 0.1883 - val_loss_adv: -6.0194 - val_loss_feat0: 0.0161 - val_loss_feat1: 0.0543 - val_loss_feat2: 0.0554 - val_loss_mae: 0.0085\n",
      "Epoch 29/200\n",
      "1000/1000 [==============================] - 179s 179ms/step - loss_d: 0.5587 - loss_g: -6.1069 - gp: 0.2834 - loss_adv: -6.2454 - loss_feat0: 0.0179 - loss_feat1: 0.0550 - loss_feat2: 0.0570 - loss_mae: 0.0087 - val_loss_d: 0.5912 - val_loss_g: -6.1559 - val_gp: 0.1392 - val_loss_adv: -6.3079 - val_loss_feat0: 0.0221 - val_loss_feat1: 0.0581 - val_loss_feat2: 0.0632 - val_loss_mae: 0.0086\n",
      "Epoch 30/200\n",
      "1000/1000 [==============================] - 179s 179ms/step - loss_d: 0.5100 - loss_g: -6.0248 - gp: 0.2687 - loss_adv: -6.1640 - loss_feat0: 0.0180 - loss_feat1: 0.0552 - loss_feat2: 0.0572 - loss_mae: 0.0088 - val_loss_d: 0.2205 - val_loss_g: -6.1174 - val_gp: 0.0999 - val_loss_adv: -6.2508 - val_loss_feat0: 0.0175 - val_loss_feat1: 0.0540 - val_loss_feat2: 0.0533 - val_loss_mae: 0.0087\n",
      "Epoch 31/200\n",
      "1000/1000 [==============================] - 180s 180ms/step - loss_d: 0.4654 - loss_g: -6.0525 - gp: 0.2597 - loss_adv: -6.1921 - loss_feat0: 0.0180 - loss_feat1: 0.0553 - loss_feat2: 0.0573 - loss_mae: 0.0089 - val_loss_d: 0.3584 - val_loss_g: -5.9994 - val_gp: 0.1769 - val_loss_adv: -6.1405 - val_loss_feat0: 0.0168 - val_loss_feat1: 0.0572 - val_loss_feat2: 0.0568 - val_loss_mae: 0.0103\n",
      "Epoch 32/200\n",
      "1000/1000 [==============================] - 180s 180ms/step - loss_d: 0.4414 - loss_g: -5.9887 - gp: 0.2749 - loss_adv: -6.1266 - loss_feat0: 0.0175 - loss_feat1: 0.0549 - loss_feat2: 0.0568 - loss_mae: 0.0087 - val_loss_d: 0.2804 - val_loss_g: -6.0794 - val_gp: 0.1344 - val_loss_adv: -6.2296 - val_loss_feat0: 0.0183 - val_loss_feat1: 0.0593 - val_loss_feat2: 0.0635 - val_loss_mae: 0.0092\n",
      "Epoch 33/200\n",
      "1000/1000 [==============================] - 180s 180ms/step - loss_d: 0.4675 - loss_g: -6.1858 - gp: 0.2752 - loss_adv: -6.3241 - loss_feat0: 0.0176 - loss_feat1: 0.0551 - loss_feat2: 0.0568 - loss_mae: 0.0088 - val_loss_d: 0.3526 - val_loss_g: -6.1698 - val_gp: 0.1155 - val_loss_adv: -6.2984 - val_loss_feat0: 0.0164 - val_loss_feat1: 0.0513 - val_loss_feat2: 0.0537 - val_loss_mae: 0.0072\n",
      "Epoch 34/200\n",
      "1000/1000 [==============================] - 179s 179ms/step - loss_d: 0.4576 - loss_g: -6.2946 - gp: 0.2595 - loss_adv: -6.4336 - loss_feat0: 0.0177 - loss_feat1: 0.0552 - loss_feat2: 0.0571 - loss_mae: 0.0089 - val_loss_d: 0.2575 - val_loss_g: -6.5775 - val_gp: 0.0899 - val_loss_adv: -6.7063 - val_loss_feat0: 0.0150 - val_loss_feat1: 0.0524 - val_loss_feat2: 0.0541 - val_loss_mae: 0.0072\n",
      "Epoch 35/200\n",
      "1000/1000 [==============================] - 179s 179ms/step - loss_d: 0.4409 - loss_g: -6.3831 - gp: 0.2595 - loss_adv: -6.5206 - loss_feat0: 0.0173 - loss_feat1: 0.0548 - loss_feat2: 0.0566 - loss_mae: 0.0089 - val_loss_d: 0.5183 - val_loss_g: -6.0411 - val_gp: 0.3186 - val_loss_adv: -6.1798 - val_loss_feat0: 0.0194 - val_loss_feat1: 0.0536 - val_loss_feat2: 0.0562 - val_loss_mae: 0.0095\n",
      "Epoch 36/200\n",
      "1000/1000 [==============================] - 180s 180ms/step - loss_d: 0.4102 - loss_g: -6.4507 - gp: 0.2561 - loss_adv: -6.5888 - loss_feat0: 0.0174 - loss_feat1: 0.0551 - loss_feat2: 0.0567 - loss_mae: 0.0091 - val_loss_d: 0.2596 - val_loss_g: -6.5778 - val_gp: 0.4590 - val_loss_adv: -6.7139 - val_loss_feat0: 0.0174 - val_loss_feat1: 0.0526 - val_loss_feat2: 0.0555 - val_loss_mae: 0.0106\n",
      "Epoch 37/200\n",
      "1000/1000 [==============================] - 180s 180ms/step - loss_d: 0.4112 - loss_g: -6.6917 - gp: 0.2426 - loss_adv: -6.8301 - loss_feat0: 0.0177 - loss_feat1: 0.0550 - loss_feat2: 0.0568 - loss_mae: 0.0090 - val_loss_d: 0.6859 - val_loss_g: -6.5586 - val_gp: 0.3657 - val_loss_adv: -6.7048 - val_loss_feat0: 0.0205 - val_loss_feat1: 0.0563 - val_loss_feat2: 0.0590 - val_loss_mae: 0.0103\n",
      "Epoch 38/200\n",
      "1000/1000 [==============================] - 180s 180ms/step - loss_d: 0.4511 - loss_g: -6.7791 - gp: 0.2772 - loss_adv: -6.9161 - loss_feat0: 0.0174 - loss_feat1: 0.0546 - loss_feat2: 0.0563 - loss_mae: 0.0088 - val_loss_d: 0.1069 - val_loss_g: -7.1970 - val_gp: 0.3394 - val_loss_adv: -7.3387 - val_loss_feat0: 0.0184 - val_loss_feat1: 0.0557 - val_loss_feat2: 0.0581 - val_loss_mae: 0.0094\n",
      "Epoch 39/200\n",
      "1000/1000 [==============================] - 180s 180ms/step - loss_d: 0.4610 - loss_g: -7.2326 - gp: 0.2513 - loss_adv: -7.3697 - loss_feat0: 0.0174 - loss_feat1: 0.0547 - loss_feat2: 0.0562 - loss_mae: 0.0088 - val_loss_d: 0.9975 - val_loss_g: -7.4200 - val_gp: 0.9208 - val_loss_adv: -7.5529 - val_loss_feat0: 0.0155 - val_loss_feat1: 0.0544 - val_loss_feat2: 0.0541 - val_loss_mae: 0.0090\n",
      "Epoch 40/200\n",
      "1000/1000 [==============================] - 180s 180ms/step - loss_d: 0.4806 - loss_g: -7.4023 - gp: 0.2762 - loss_adv: -7.5386 - loss_feat0: 0.0170 - loss_feat1: 0.0546 - loss_feat2: 0.0560 - loss_mae: 0.0087 - val_loss_d: 0.6979 - val_loss_g: -7.2700 - val_gp: 0.4274 - val_loss_adv: -7.4127 - val_loss_feat0: 0.0174 - val_loss_feat1: 0.0573 - val_loss_feat2: 0.0597 - val_loss_mae: 0.0084\n",
      "Epoch 41/200\n"
     ]
    },
    {
     "name": "stdout",
     "output_type": "stream",
     "text": [
      "1000/1000 [==============================] - 180s 180ms/step - loss_d: 0.5120 - loss_g: -7.4093 - gp: 0.2963 - loss_adv: -7.5437 - loss_feat0: 0.0166 - loss_feat1: 0.0541 - loss_feat2: 0.0552 - loss_mae: 0.0085 - val_loss_d: 0.5074 - val_loss_g: -8.0217 - val_gp: 0.1331 - val_loss_adv: -8.1670 - val_loss_feat0: 0.0183 - val_loss_feat1: 0.0579 - val_loss_feat2: 0.0600 - val_loss_mae: 0.0090\n",
      "Epoch 42/200\n",
      "1000/1000 [==============================] - 180s 180ms/step - loss_d: 0.4825 - loss_g: -7.5149 - gp: 0.2780 - loss_adv: -7.6522 - loss_feat0: 0.0180 - loss_feat1: 0.0545 - loss_feat2: 0.0560 - loss_mae: 0.0088 - val_loss_d: -0.0358 - val_loss_g: -7.4950 - val_gp: 0.1661 - val_loss_adv: -7.6467 - val_loss_feat0: 0.0191 - val_loss_feat1: 0.0536 - val_loss_feat2: 0.0650 - val_loss_mae: 0.0141\n",
      "Epoch 43/200\n",
      "1000/1000 [==============================] - 179s 179ms/step - loss_d: 0.4397 - loss_g: -7.6162 - gp: 0.2774 - loss_adv: -7.7518 - loss_feat0: 0.0172 - loss_feat1: 0.0541 - loss_feat2: 0.0555 - loss_mae: 0.0089 - val_loss_d: 0.2282 - val_loss_g: -7.6337 - val_gp: 0.1596 - val_loss_adv: -7.7699 - val_loss_feat0: 0.0172 - val_loss_feat1: 0.0545 - val_loss_feat2: 0.0555 - val_loss_mae: 0.0090\n",
      "Epoch 44/200\n",
      "1000/1000 [==============================] - 180s 180ms/step - loss_d: 0.4534 - loss_g: -7.8076 - gp: 0.2859 - loss_adv: -7.9414 - loss_feat0: 0.0167 - loss_feat1: 0.0537 - loss_feat2: 0.0548 - loss_mae: 0.0086 - val_loss_d: 0.2985 - val_loss_g: -7.5493 - val_gp: 0.3634 - val_loss_adv: -7.6988 - val_loss_feat0: 0.0214 - val_loss_feat1: 0.0580 - val_loss_feat2: 0.0609 - val_loss_mae: 0.0093\n",
      "Epoch 45/200\n",
      "1000/1000 [==============================] - 180s 180ms/step - loss_d: 0.4165 - loss_g: -7.7585 - gp: 0.2551 - loss_adv: -7.8932 - loss_feat0: 0.0170 - loss_feat1: 0.0540 - loss_feat2: 0.0552 - loss_mae: 0.0085 - val_loss_d: 0.2088 - val_loss_g: -7.6146 - val_gp: 0.2075 - val_loss_adv: -7.7261 - val_loss_feat0: 0.0126 - val_loss_feat1: 0.0455 - val_loss_feat2: 0.0480 - val_loss_mae: 0.0054\n",
      "Epoch 46/200\n",
      "1000/1000 [==============================] - 180s 180ms/step - loss_d: 0.4078 - loss_g: -7.7267 - gp: 0.2463 - loss_adv: -7.8637 - loss_feat0: 0.0173 - loss_feat1: 0.0547 - loss_feat2: 0.0561 - loss_mae: 0.0090 - val_loss_d: 2.0280 - val_loss_g: -7.9238 - val_gp: 2.1290 - val_loss_adv: -8.0538 - val_loss_feat0: 0.0182 - val_loss_feat1: 0.0520 - val_loss_feat2: 0.0518 - val_loss_mae: 0.0079\n",
      "Epoch 47/200\n",
      "1000/1000 [==============================] - 180s 180ms/step - loss_d: 0.3793 - loss_g: -7.9756 - gp: 0.2304 - loss_adv: -8.1100 - loss_feat0: 0.0167 - loss_feat1: 0.0540 - loss_feat2: 0.0551 - loss_mae: 0.0086 - val_loss_d: 0.0814 - val_loss_g: -8.0295 - val_gp: 0.1343 - val_loss_adv: -8.1673 - val_loss_feat0: 0.0171 - val_loss_feat1: 0.0558 - val_loss_feat2: 0.0548 - val_loss_mae: 0.0101\n",
      "Epoch 48/200\n",
      "1000/1000 [==============================] - 180s 180ms/step - loss_d: 0.4249 - loss_g: -7.9318 - gp: 0.2494 - loss_adv: -8.0655 - loss_feat0: 0.0165 - loss_feat1: 0.0538 - loss_feat2: 0.0548 - loss_mae: 0.0086 - val_loss_d: 0.0240 - val_loss_g: -8.0283 - val_gp: 0.2088 - val_loss_adv: -8.1594 - val_loss_feat0: 0.0151 - val_loss_feat1: 0.0550 - val_loss_feat2: 0.0525 - val_loss_mae: 0.0084\n",
      "Epoch 49/200\n",
      " 438/1000 [============>.................] - ETA: 1:39 - loss_d: 0.4411 - loss_g: -7.9121 - gp: 0.2683 - loss_adv: -8.0478 - loss_feat0: 0.0169 - loss_feat1: 0.0542 - loss_feat2: 0.0556 - loss_mae: 0.0091"
     ]
    }
   ],
   "source": [
    "model.fit(ds_tr,\n",
    "          steps_per_epoch = opt.size_train,\n",
    "          epochs = opt.epochs, \n",
    "          verbose = 1,\n",
    "          validation_data = ds_val,\n",
    "          validation_steps = opt.size_val,\n",
    "          callbacks = [display])"
   ]
  },
  {
   "cell_type": "code",
   "execution_count": null,
   "metadata": {},
   "outputs": [],
   "source": []
  },
  {
   "cell_type": "code",
   "execution_count": null,
   "metadata": {},
   "outputs": [],
   "source": []
  }
 ],
 "metadata": {
  "kernelspec": {
   "display_name": "Python 3",
   "language": "python",
   "name": "python3"
  },
  "language_info": {
   "codemirror_mode": {
    "name": "ipython",
    "version": 3
   },
   "file_extension": ".py",
   "mimetype": "text/x-python",
   "name": "python",
   "nbconvert_exporter": "python",
   "pygments_lexer": "ipython3",
   "version": "3.7.7"
  }
 },
 "nbformat": 4,
 "nbformat_minor": 4
}
